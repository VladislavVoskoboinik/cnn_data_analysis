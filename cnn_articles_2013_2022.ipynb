{
 "cells": [
  {
   "cell_type": "code",
   "execution_count": 1,
   "id": "da7e9cbc",
   "metadata": {},
   "outputs": [],
   "source": [
    "import numpy as np\n",
    "import pandas as pd\n",
    "import matplotlib.pyplot as plt\n",
    "import datetime as dt\n",
    "import seaborn as sb"
   ]
  },
  {
   "cell_type": "markdown",
   "id": "0a3a0c76",
   "metadata": {},
   "source": [
    "# Data cleaning"
   ]
  },
  {
   "cell_type": "code",
   "execution_count": 2,
   "id": "12ddd9ba",
   "metadata": {},
   "outputs": [],
   "source": [
    "cnn_df = pd.read_csv(\"CNN_Articles.csv\")"
   ]
  },
  {
   "cell_type": "markdown",
   "id": "5b5c31a3",
   "metadata": {},
   "source": [
    "## Data exploration"
   ]
  },
  {
   "cell_type": "code",
   "execution_count": 3,
   "id": "8a002acd",
   "metadata": {},
   "outputs": [
    {
     "data": {
      "text/plain": [
       "(9308, 11)"
      ]
     },
     "execution_count": 3,
     "metadata": {},
     "output_type": "execute_result"
    }
   ],
   "source": [
    "cnn_df.shape"
   ]
  },
  {
   "cell_type": "code",
   "execution_count": 4,
   "id": "152d6b4f",
   "metadata": {},
   "outputs": [
    {
     "name": "stdout",
     "output_type": "stream",
     "text": [
      "<class 'pandas.core.frame.DataFrame'>\n",
      "RangeIndex: 9308 entries, 0 to 9307\n",
      "Data columns (total 11 columns):\n",
      " #   Column                Non-Null Count  Dtype \n",
      "---  ------                --------------  ----- \n",
      " 0   Unnamed: 0            9308 non-null   int64 \n",
      " 1   author                9308 non-null   object\n",
      " 2   date_published        9308 non-null   object\n",
      " 3   part_of               9308 non-null   object\n",
      " 4   article_section       9308 non-null   object\n",
      " 5   url                   9308 non-null   object\n",
      " 6   headline              9308 non-null   object\n",
      " 7   description           9308 non-null   object\n",
      " 8   keywords              9308 non-null   object\n",
      " 9   alternative_headline  9308 non-null   object\n",
      " 10  text                  9308 non-null   object\n",
      "dtypes: int64(1), object(10)\n",
      "memory usage: 800.0+ KB\n"
     ]
    }
   ],
   "source": [
    "cnn_df.info()"
   ]
  },
  {
   "cell_type": "code",
   "execution_count": 5,
   "id": "1320aebe",
   "metadata": {},
   "outputs": [
    {
     "data": {
      "text/html": [
       "<div>\n",
       "<style scoped>\n",
       "    .dataframe tbody tr th:only-of-type {\n",
       "        vertical-align: middle;\n",
       "    }\n",
       "\n",
       "    .dataframe tbody tr th {\n",
       "        vertical-align: top;\n",
       "    }\n",
       "\n",
       "    .dataframe thead th {\n",
       "        text-align: right;\n",
       "    }\n",
       "</style>\n",
       "<table border=\"1\" class=\"dataframe\">\n",
       "  <thead>\n",
       "    <tr style=\"text-align: right;\">\n",
       "      <th></th>\n",
       "      <th>Unnamed: 0</th>\n",
       "      <th>author</th>\n",
       "      <th>date_published</th>\n",
       "      <th>part_of</th>\n",
       "      <th>article_section</th>\n",
       "      <th>url</th>\n",
       "      <th>headline</th>\n",
       "      <th>description</th>\n",
       "      <th>keywords</th>\n",
       "      <th>alternative_headline</th>\n",
       "      <th>text</th>\n",
       "    </tr>\n",
       "  </thead>\n",
       "  <tbody>\n",
       "    <tr>\n",
       "      <th>0</th>\n",
       "      <td>0</td>\n",
       "      <td>Jacopo Prisco, CNN</td>\n",
       "      <td>2021-07-15T02:46:59Z</td>\n",
       "      <td>news</td>\n",
       "      <td>world</td>\n",
       "      <td>https://www.cnn.com/2021/07/14/world/tusimple-...</td>\n",
       "      <td>There's a shortage of truckers, but TuSimple t...</td>\n",
       "      <td>The e-commerce boom has exacerbated a global t...</td>\n",
       "      <td>world, There's a shortage of truckers, but TuS...</td>\n",
       "      <td>There's a shortage of truckers, but TuSimple t...</td>\n",
       "      <td>(CNN)Right now, there's a shortage of truck d...</td>\n",
       "    </tr>\n",
       "    <tr>\n",
       "      <th>1</th>\n",
       "      <td>1</td>\n",
       "      <td>Jacopo Prisco, CNN</td>\n",
       "      <td>2021-07-15T02:46:59Z</td>\n",
       "      <td>news</td>\n",
       "      <td>world</td>\n",
       "      <td>https://www.cnn.com/2021/07/14/world/tusimple-...</td>\n",
       "      <td>There's a shortage of truckers, but TuSimple t...</td>\n",
       "      <td>The e-commerce boom has exacerbated a global t...</td>\n",
       "      <td>world, There's a shortage of truckers, but TuS...</td>\n",
       "      <td>There's a shortage of truckers, but TuSimple t...</td>\n",
       "      <td>(CNN)Right now, there's a shortage of truck d...</td>\n",
       "    </tr>\n",
       "    <tr>\n",
       "      <th>2</th>\n",
       "      <td>2</td>\n",
       "      <td>Stephanie Bailey, CNN</td>\n",
       "      <td>2021-05-12T07:52:09Z</td>\n",
       "      <td>news</td>\n",
       "      <td>world</td>\n",
       "      <td>https://www.cnn.com/2021/05/12/world/ironhand-...</td>\n",
       "      <td>Bioservo's robotic 'Ironhand' could protect fa...</td>\n",
       "      <td>Working in a factory can mean doing the same t...</td>\n",
       "      <td>world, Bioservo's robotic 'Ironhand' could pro...</td>\n",
       "      <td>A robotic 'Ironhand' could protect factory wor...</td>\n",
       "      <td>(CNN)Working in a factory or warehouse can me...</td>\n",
       "    </tr>\n",
       "    <tr>\n",
       "      <th>3</th>\n",
       "      <td>3</td>\n",
       "      <td>Words by Stephanie Bailey, video by Zahra Jamshed</td>\n",
       "      <td>2021-06-16T02:51:30Z</td>\n",
       "      <td>news</td>\n",
       "      <td>asia</td>\n",
       "      <td>https://www.cnn.com/2021/06/15/asia/swarm-robo...</td>\n",
       "      <td>This swarm of robots gets smarter the more it ...</td>\n",
       "      <td>In a Hong Kong warehouse, a swarm of autonomou...</td>\n",
       "      <td>asia, This swarm of robots gets smarter the mo...</td>\n",
       "      <td>This swarm of robots gets smarter the more it ...</td>\n",
       "      <td>(CNN)In a Hong Kong warehouse, a swarm of aut...</td>\n",
       "    </tr>\n",
       "    <tr>\n",
       "      <th>4</th>\n",
       "      <td>4</td>\n",
       "      <td>Paul R. La Monica, CNN Business</td>\n",
       "      <td>2022-03-15T09:57:36Z</td>\n",
       "      <td>business</td>\n",
       "      <td>investing</td>\n",
       "      <td>https://www.cnn.com/2022/03/15/investing/brics...</td>\n",
       "      <td>Russia is no longer an option for investors. T...</td>\n",
       "      <td>For many years, the world's most popular emerg...</td>\n",
       "      <td>investing, Russia is no longer an option for i...</td>\n",
       "      <td>Russia is no longer an option for investors. T...</td>\n",
       "      <td>New York (CNN Business)For many years, the wor...</td>\n",
       "    </tr>\n",
       "  </tbody>\n",
       "</table>\n",
       "</div>"
      ],
      "text/plain": [
       "   Unnamed: 0                                             author  \\\n",
       "0           0                                 Jacopo Prisco, CNN   \n",
       "1           1                                 Jacopo Prisco, CNN   \n",
       "2           2                              Stephanie Bailey, CNN   \n",
       "3           3  Words by Stephanie Bailey, video by Zahra Jamshed   \n",
       "4           4                    Paul R. La Monica, CNN Business   \n",
       "\n",
       "         date_published   part_of article_section  \\\n",
       "0  2021-07-15T02:46:59Z      news           world   \n",
       "1  2021-07-15T02:46:59Z      news           world   \n",
       "2  2021-05-12T07:52:09Z      news           world   \n",
       "3  2021-06-16T02:51:30Z      news            asia   \n",
       "4  2022-03-15T09:57:36Z  business       investing   \n",
       "\n",
       "                                                 url  \\\n",
       "0  https://www.cnn.com/2021/07/14/world/tusimple-...   \n",
       "1  https://www.cnn.com/2021/07/14/world/tusimple-...   \n",
       "2  https://www.cnn.com/2021/05/12/world/ironhand-...   \n",
       "3  https://www.cnn.com/2021/06/15/asia/swarm-robo...   \n",
       "4  https://www.cnn.com/2022/03/15/investing/brics...   \n",
       "\n",
       "                                            headline  \\\n",
       "0  There's a shortage of truckers, but TuSimple t...   \n",
       "1  There's a shortage of truckers, but TuSimple t...   \n",
       "2  Bioservo's robotic 'Ironhand' could protect fa...   \n",
       "3  This swarm of robots gets smarter the more it ...   \n",
       "4  Russia is no longer an option for investors. T...   \n",
       "\n",
       "                                         description  \\\n",
       "0  The e-commerce boom has exacerbated a global t...   \n",
       "1  The e-commerce boom has exacerbated a global t...   \n",
       "2  Working in a factory can mean doing the same t...   \n",
       "3  In a Hong Kong warehouse, a swarm of autonomou...   \n",
       "4  For many years, the world's most popular emerg...   \n",
       "\n",
       "                                            keywords  \\\n",
       "0  world, There's a shortage of truckers, but TuS...   \n",
       "1  world, There's a shortage of truckers, but TuS...   \n",
       "2  world, Bioservo's robotic 'Ironhand' could pro...   \n",
       "3  asia, This swarm of robots gets smarter the mo...   \n",
       "4  investing, Russia is no longer an option for i...   \n",
       "\n",
       "                                alternative_headline  \\\n",
       "0  There's a shortage of truckers, but TuSimple t...   \n",
       "1  There's a shortage of truckers, but TuSimple t...   \n",
       "2  A robotic 'Ironhand' could protect factory wor...   \n",
       "3  This swarm of robots gets smarter the more it ...   \n",
       "4  Russia is no longer an option for investors. T...   \n",
       "\n",
       "                                                text  \n",
       "0   (CNN)Right now, there's a shortage of truck d...  \n",
       "1   (CNN)Right now, there's a shortage of truck d...  \n",
       "2   (CNN)Working in a factory or warehouse can me...  \n",
       "3   (CNN)In a Hong Kong warehouse, a swarm of aut...  \n",
       "4  New York (CNN Business)For many years, the wor...  "
      ]
     },
     "execution_count": 5,
     "metadata": {},
     "output_type": "execute_result"
    }
   ],
   "source": [
    "cnn_df.head()"
   ]
  },
  {
   "cell_type": "code",
   "execution_count": 6,
   "id": "25a48144",
   "metadata": {},
   "outputs": [
    {
     "data": {
      "text/plain": [
       "Unnamed: 0              False\n",
       "author                  False\n",
       "date_published          False\n",
       "part_of                 False\n",
       "article_section         False\n",
       "url                     False\n",
       "headline                False\n",
       "description             False\n",
       "keywords                False\n",
       "alternative_headline    False\n",
       "text                    False\n",
       "dtype: bool"
      ]
     },
     "execution_count": 6,
     "metadata": {},
     "output_type": "execute_result"
    }
   ],
   "source": [
    "cnn_df.isnull().any()"
   ]
  },
  {
   "cell_type": "markdown",
   "id": "32472938",
   "metadata": {},
   "source": [
    "## Dealing with duplicates"
   ]
  },
  {
   "cell_type": "code",
   "execution_count": 7,
   "id": "32e24666",
   "metadata": {},
   "outputs": [
    {
     "data": {
      "text/plain": [
       "False"
      ]
     },
     "execution_count": 7,
     "metadata": {},
     "output_type": "execute_result"
    }
   ],
   "source": [
    "cnn_df.duplicated().any()"
   ]
  },
  {
   "cell_type": "code",
   "execution_count": 8,
   "id": "0fc4dd38",
   "metadata": {},
   "outputs": [
    {
     "data": {
      "text/plain": [
       "https://www.cnn.com/2022/03/15/investing/brics-emerging-markets-russia/index.html                                   14\n",
       "https://www.cnn.com/2022/03/06/entertainment/winning-time-review/index.html                                         10\n",
       "https://www.cnn.com/2022/03/07/entertainment/turning-red-review/index.html                                          10\n",
       "https://www.cnn.com/2021/06/03/sport/janja-garnbret-climbing-olympics-tokyo-cmd-spt-intl/index.html                  9\n",
       "https://www.cnn.com/2022/02/07/weather/category-6-hurricane-wxn/index.html                                           8\n",
       "                                                                                                                    ..\n",
       "https://www.cnn.com/2021/05/31/europe/decapitated-roman-remains-scn-scli-intl/index.html                             2\n",
       "https://www.cnn.com/2021/05/30/tennis/naomi-osaka-french-open-first-round-win-spt-intl/index.html                    2\n",
       "https://www.cnn.com/2021/05/31/football/alex-ferguson-documentary-manchester-united-football-spt-intl/index.html     2\n",
       "https://www.cnn.com/2021/05/31/tennis/naomi-osaka-french-open-withdraw-spt-intl/index.html                           2\n",
       "https://www.cnn.com/2021/12/01/golf/tiger-woods-end-of-era-meanwhile-spt-intl/index.html                             2\n",
       "Name: url, Length: 4076, dtype: int64"
      ]
     },
     "execution_count": 8,
     "metadata": {},
     "output_type": "execute_result"
    }
   ],
   "source": [
    "cnn_df['url'].value_counts()"
   ]
  },
  {
   "cell_type": "code",
   "execution_count": 9,
   "id": "2707e920",
   "metadata": {},
   "outputs": [
    {
     "data": {
      "text/plain": [
       "https://www.cnn.com/2021/07/14/world/tusimple-autonomous-truck-spc-intl/index.html                               1\n",
       "https://www.cnn.com/2021/07/17/motorsport/ana-carrasco-supersport-broken-back-return-cmd-spt-intl/index.html     1\n",
       "https://www.cnn.com/2021/08/10/australia/australia-magpie-baby-death-intl-hnk/index.html                         1\n",
       "https://www.cnn.com/2021/08/10/sport/india-olympics-glory-intl-hnk/index.html                                    1\n",
       "https://www.cnn.com/2021/08/09/us/lamar-jackson-baltimore-ravens-covid/index.html                                1\n",
       "                                                                                                                ..\n",
       "https://www.cnn.com/2021/03/12/uk/meghan-race-britain-gbr-intl/index.html                                        1\n",
       "https://www.cnn.com/2021/03/11/europe/nazi-guard-trial-harry-s-stutthof-scli-intl-grm/index.html                 1\n",
       "https://www.cnn.com/2021/03/11/football/nba-meyers-leonard-fine-suspension-spt-intl/index.html                   1\n",
       "https://www.cnn.com/2021/03/10/football/cristiano-ronaldo-juventus-porto-champions-league-spt-intl/index.html    1\n",
       "https://www.cnn.com/2021/12/01/golf/tiger-woods-end-of-era-meanwhile-spt-intl/index.html                         1\n",
       "Name: url, Length: 4076, dtype: int64"
      ]
     },
     "execution_count": 9,
     "metadata": {},
     "output_type": "execute_result"
    }
   ],
   "source": [
    "cnn_df.drop_duplicates(subset = [\"url\"], keep = \"first\", inplace = True)\n",
    "cnn_df[\"url\"].value_counts()"
   ]
  },
  {
   "cell_type": "markdown",
   "id": "824b4815",
   "metadata": {},
   "source": [
    "## Missing data"
   ]
  },
  {
   "cell_type": "code",
   "execution_count": 10,
   "id": "fb8930e3",
   "metadata": {},
   "outputs": [
    {
     "data": {
      "text/plain": [
       "Unnamed: 0              0.0\n",
       "author                  0.0\n",
       "date_published          0.0\n",
       "part_of                 0.0\n",
       "article_section         0.0\n",
       "url                     0.0\n",
       "headline                0.0\n",
       "description             0.0\n",
       "keywords                0.0\n",
       "alternative_headline    0.0\n",
       "text                    0.0\n",
       "dtype: float64"
      ]
     },
     "execution_count": 10,
     "metadata": {},
     "output_type": "execute_result"
    }
   ],
   "source": [
    "round((cnn_df.isnull().sum())/(cnn_df.shape[0]), 2)"
   ]
  },
  {
   "cell_type": "markdown",
   "id": "4820c2f8",
   "metadata": {},
   "source": [
    "## Column type"
   ]
  },
  {
   "cell_type": "code",
   "execution_count": 11,
   "id": "5f8592bc",
   "metadata": {},
   "outputs": [],
   "source": [
    "cnn_df[\"author\"] = cnn_df[\"author\"].astype(\"string\")\n",
    "cnn_df[\"date_published\"] = cnn_df[\"date_published\"].astype(\"datetime64[ns]\")\n",
    "cnn_df[\"part_of\"] = cnn_df[\"part_of\"].astype(\"string\")\n",
    "cnn_df[\"article_section\"] = cnn_df[\"article_section\"].astype(\"string\")\n",
    "cnn_df[\"url\"] = cnn_df[\"url\"].astype(\"string\")\n",
    "cnn_df[\"headline\"] = cnn_df[\"headline\"].astype(\"string\")\n",
    "cnn_df[\"description\"] = cnn_df[\"description\"].astype(\"string\")\n",
    "cnn_df[\"keywords\"] = cnn_df[\"keywords\"].astype(\"string\")\n",
    "cnn_df[\"alternative_headline\"] = cnn_df[\"alternative_headline\"].astype(\"string\")\n",
    "cnn_df[\"text\"] = cnn_df[\"text\"].astype(\"string\")"
   ]
  },
  {
   "cell_type": "code",
   "execution_count": 12,
   "id": "4a4dca96",
   "metadata": {},
   "outputs": [
    {
     "name": "stdout",
     "output_type": "stream",
     "text": [
      "<class 'pandas.core.frame.DataFrame'>\n",
      "Int64Index: 4076 entries, 0 to 4729\n",
      "Data columns (total 11 columns):\n",
      " #   Column                Non-Null Count  Dtype         \n",
      "---  ------                --------------  -----         \n",
      " 0   Unnamed: 0            4076 non-null   int64         \n",
      " 1   author                4076 non-null   string        \n",
      " 2   date_published        4076 non-null   datetime64[ns]\n",
      " 3   part_of               4076 non-null   string        \n",
      " 4   article_section       4076 non-null   string        \n",
      " 5   url                   4076 non-null   string        \n",
      " 6   headline              4076 non-null   string        \n",
      " 7   description           4076 non-null   string        \n",
      " 8   keywords              4076 non-null   string        \n",
      " 9   alternative_headline  4076 non-null   string        \n",
      " 10  text                  4076 non-null   string        \n",
      "dtypes: datetime64[ns](1), int64(1), string(9)\n",
      "memory usage: 382.1 KB\n"
     ]
    }
   ],
   "source": [
    "cnn_df.info()"
   ]
  },
  {
   "cell_type": "markdown",
   "id": "d30aba4d",
   "metadata": {},
   "source": [
    "## Rename columns "
   ]
  },
  {
   "cell_type": "code",
   "execution_count": 13,
   "id": "87766d9e",
   "metadata": {},
   "outputs": [],
   "source": [
    "cnn_df = cnn_df.rename(columns = {\"Unnamed: 0\":\"Id\",\n",
    "                                  \"author\":\"Author\", \"date_published\":\"Date published\", \"part_of\":\"Category\",\n",
    "                                  \"article_section\":\"Section\", \"url\":\"Url\", \"headline\":\"Headline\", \"description\":\"Description\",\n",
    "                                  \"keywords\":\"Keywords\", \"alternative_headline\":\"Alternative_headline\", \"text\":\"Text\"})"
   ]
  },
  {
   "cell_type": "code",
   "execution_count": 14,
   "id": "f55c059e",
   "metadata": {},
   "outputs": [
    {
     "name": "stdout",
     "output_type": "stream",
     "text": [
      "<class 'pandas.core.frame.DataFrame'>\n",
      "Int64Index: 4076 entries, 0 to 4729\n",
      "Data columns (total 11 columns):\n",
      " #   Column                Non-Null Count  Dtype         \n",
      "---  ------                --------------  -----         \n",
      " 0   Id                    4076 non-null   int64         \n",
      " 1   Author                4076 non-null   string        \n",
      " 2   Date published        4076 non-null   datetime64[ns]\n",
      " 3   Category              4076 non-null   string        \n",
      " 4   Section               4076 non-null   string        \n",
      " 5   Url                   4076 non-null   string        \n",
      " 6   Headline              4076 non-null   string        \n",
      " 7   Description           4076 non-null   string        \n",
      " 8   Keywords              4076 non-null   string        \n",
      " 9   Alternative_headline  4076 non-null   string        \n",
      " 10  Text                  4076 non-null   string        \n",
      "dtypes: datetime64[ns](1), int64(1), string(9)\n",
      "memory usage: 382.1 KB\n"
     ]
    }
   ],
   "source": [
    "cnn_df.info()"
   ]
  },
  {
   "cell_type": "markdown",
   "id": "5a931df3",
   "metadata": {},
   "source": [
    "# Data visualization"
   ]
  },
  {
   "cell_type": "code",
   "execution_count": 15,
   "id": "0846e7a7",
   "metadata": {},
   "outputs": [
    {
     "data": {
      "text/html": [
       "<div>\n",
       "<style scoped>\n",
       "    .dataframe tbody tr th:only-of-type {\n",
       "        vertical-align: middle;\n",
       "    }\n",
       "\n",
       "    .dataframe tbody tr th {\n",
       "        vertical-align: top;\n",
       "    }\n",
       "\n",
       "    .dataframe thead th {\n",
       "        text-align: right;\n",
       "    }\n",
       "</style>\n",
       "<table border=\"1\" class=\"dataframe\">\n",
       "  <thead>\n",
       "    <tr style=\"text-align: right;\">\n",
       "      <th></th>\n",
       "      <th>Id</th>\n",
       "      <th>Author</th>\n",
       "      <th>Date published</th>\n",
       "      <th>Category</th>\n",
       "      <th>Section</th>\n",
       "      <th>Url</th>\n",
       "      <th>Headline</th>\n",
       "      <th>Description</th>\n",
       "      <th>Keywords</th>\n",
       "      <th>Alternative_headline</th>\n",
       "      <th>Text</th>\n",
       "    </tr>\n",
       "  </thead>\n",
       "  <tbody>\n",
       "    <tr>\n",
       "      <th>3778</th>\n",
       "      <td>3778</td>\n",
       "      <td>Story by Reuters</td>\n",
       "      <td>2021-10-27 08:48:01</td>\n",
       "      <td>sport</td>\n",
       "      <td>tennis</td>\n",
       "      <td>https://www.cnn.com/2021/10/27/tennis/australi...</td>\n",
       "      <td>Australian Open: No unvaccinated players at to...</td>\n",
       "      <td>Victoria Premier Daniel Andrews said his gover...</td>\n",
       "      <td>tennis, Australian Open: No unvaccinated playe...</td>\n",
       "      <td>No unvaccinated players at Australian Open, sa...</td>\n",
       "      <td>Victoria Premier Daniel Andrews said his gover...</td>\n",
       "    </tr>\n",
       "    <tr>\n",
       "      <th>1147</th>\n",
       "      <td>1147</td>\n",
       "      <td>Wayne Drash, CNN\n",
       "Photographs by Kayana Szymcza...</td>\n",
       "      <td>2018-08-15 08:28:19</td>\n",
       "      <td>health</td>\n",
       "      <td>health</td>\n",
       "      <td>https://www.cnn.com/2018/08/15/health/cancer-s...</td>\n",
       "      <td>When insurance wouldn't pay, parents funded ca...</td>\n",
       "      <td>Kate Weissman's parents paid $95,000 for her c...</td>\n",
       "      <td>health, When insurance wouldn't pay, parents f...</td>\n",
       "      <td>When insurance wouldn't pay, parents funded ca...</td>\n",
       "      <td>Boston (CNN)Kate Weissman sits at the edge of ...</td>\n",
       "    </tr>\n",
       "    <tr>\n",
       "      <th>3969</th>\n",
       "      <td>3969</td>\n",
       "      <td>Reuters</td>\n",
       "      <td>2021-10-12 09:20:48</td>\n",
       "      <td>sport</td>\n",
       "      <td>tennis</td>\n",
       "      <td>https://www.cnn.com/2021/10/12/tennis/australi...</td>\n",
       "      <td>Australian Open: Get vaccinated if you want to...</td>\n",
       "      <td>Tennis players planning to compete in the Aust...</td>\n",
       "      <td>tennis, Australian Open: Get vaccinated if you...</td>\n",
       "      <td>Want to play in the Australian Open? Get vacci...</td>\n",
       "      <td>(Reuters)Tennis players planning to compete i...</td>\n",
       "    </tr>\n",
       "    <tr>\n",
       "      <th>899</th>\n",
       "      <td>899</td>\n",
       "      <td>John D. Sutter and Matthew Gannon, CNN</td>\n",
       "      <td>2015-11-23 14:37:20</td>\n",
       "      <td>news</td>\n",
       "      <td>opinions</td>\n",
       "      <td>https://www.cnn.com/2015/11/23/opinions/sutter...</td>\n",
       "      <td>Climate change: The community that stood up to...</td>\n",
       "      <td>Two Degrees: John D. Sutter visits the Norther...</td>\n",
       "      <td>opinions, Climate change: The community that s...</td>\n",
       "      <td>The community that stood up to coal</td>\n",
       "      <td>CNN columnist John D. Sutter is reporting from...</td>\n",
       "    </tr>\n",
       "    <tr>\n",
       "      <th>1351</th>\n",
       "      <td>1351</td>\n",
       "      <td>Blake Ellis and Melanie Hicken, CNN</td>\n",
       "      <td>2021-03-26 02:20:53</td>\n",
       "      <td>business</td>\n",
       "      <td>business</td>\n",
       "      <td>https://www.cnn.com/2021/03/25/business/covid-...</td>\n",
       "      <td>Fake tax preparer exposed by CNN charged with ...</td>\n",
       "      <td>An Arizona businessman who secured more than $...</td>\n",
       "      <td>business, Fake tax preparer exposed by CNN cha...</td>\n",
       "      <td>Fake CPA hit with criminal charges for Covid-1...</td>\n",
       "      <td>(CNN)An Arizona businessman who secured more ...</td>\n",
       "    </tr>\n",
       "  </tbody>\n",
       "</table>\n",
       "</div>"
      ],
      "text/plain": [
       "        Id                                             Author  \\\n",
       "3778  3778                                   Story by Reuters   \n",
       "1147  1147  Wayne Drash, CNN\n",
       "Photographs by Kayana Szymcza...   \n",
       "3969  3969                                            Reuters   \n",
       "899    899             John D. Sutter and Matthew Gannon, CNN   \n",
       "1351  1351                Blake Ellis and Melanie Hicken, CNN   \n",
       "\n",
       "          Date published  Category   Section  \\\n",
       "3778 2021-10-27 08:48:01     sport    tennis   \n",
       "1147 2018-08-15 08:28:19    health    health   \n",
       "3969 2021-10-12 09:20:48     sport    tennis   \n",
       "899  2015-11-23 14:37:20      news  opinions   \n",
       "1351 2021-03-26 02:20:53  business  business   \n",
       "\n",
       "                                                    Url  \\\n",
       "3778  https://www.cnn.com/2021/10/27/tennis/australi...   \n",
       "1147  https://www.cnn.com/2018/08/15/health/cancer-s...   \n",
       "3969  https://www.cnn.com/2021/10/12/tennis/australi...   \n",
       "899   https://www.cnn.com/2015/11/23/opinions/sutter...   \n",
       "1351  https://www.cnn.com/2021/03/25/business/covid-...   \n",
       "\n",
       "                                               Headline  \\\n",
       "3778  Australian Open: No unvaccinated players at to...   \n",
       "1147  When insurance wouldn't pay, parents funded ca...   \n",
       "3969  Australian Open: Get vaccinated if you want to...   \n",
       "899   Climate change: The community that stood up to...   \n",
       "1351  Fake tax preparer exposed by CNN charged with ...   \n",
       "\n",
       "                                            Description  \\\n",
       "3778  Victoria Premier Daniel Andrews said his gover...   \n",
       "1147  Kate Weissman's parents paid $95,000 for her c...   \n",
       "3969  Tennis players planning to compete in the Aust...   \n",
       "899   Two Degrees: John D. Sutter visits the Norther...   \n",
       "1351  An Arizona businessman who secured more than $...   \n",
       "\n",
       "                                               Keywords  \\\n",
       "3778  tennis, Australian Open: No unvaccinated playe...   \n",
       "1147  health, When insurance wouldn't pay, parents f...   \n",
       "3969  tennis, Australian Open: Get vaccinated if you...   \n",
       "899   opinions, Climate change: The community that s...   \n",
       "1351  business, Fake tax preparer exposed by CNN cha...   \n",
       "\n",
       "                                   Alternative_headline  \\\n",
       "3778  No unvaccinated players at Australian Open, sa...   \n",
       "1147  When insurance wouldn't pay, parents funded ca...   \n",
       "3969  Want to play in the Australian Open? Get vacci...   \n",
       "899                 The community that stood up to coal   \n",
       "1351  Fake CPA hit with criminal charges for Covid-1...   \n",
       "\n",
       "                                                   Text  \n",
       "3778  Victoria Premier Daniel Andrews said his gover...  \n",
       "1147  Boston (CNN)Kate Weissman sits at the edge of ...  \n",
       "3969   (Reuters)Tennis players planning to compete i...  \n",
       "899   CNN columnist John D. Sutter is reporting from...  \n",
       "1351   (CNN)An Arizona businessman who secured more ...  "
      ]
     },
     "execution_count": 15,
     "metadata": {},
     "output_type": "execute_result"
    }
   ],
   "source": [
    "cnn_df.sample(5)"
   ]
  },
  {
   "cell_type": "code",
   "execution_count": 21,
   "id": "da40908a",
   "metadata": {},
   "outputs": [
    {
     "data": {
      "image/png": "[encoded data removed]",
      "text/plain": [
       "<Figure size 432x288 with 1 Axes>"
      ]
     },
     "metadata": {
      "needs_background": "light"
     },
     "output_type": "display_data"
    }
   ],
   "source": [
    "sb.countplot(x = cnn_df[\"Category\"])\n",
    "sb.set_style(\"darkgrid\")\n"
   ]
  },
  {
   "cell_type": "code",
   "execution_count": 22,
   "id": "c5452ac8",
   "metadata": {},
   "outputs": [
    {
     "data": {
      "text/plain": [
       "sport            2176\n",
       "news             1611\n",
       "business          104\n",
       "politics           75\n",
       "entertainment      58\n",
       "health             52\n",
       "Name: Category, dtype: Int64"
      ]
     },
     "execution_count": 22,
     "metadata": {},
     "output_type": "execute_result"
    }
   ],
   "source": [
    "cnn_df[\"Category\"].value_counts()"
   ]
  },
  {
   "cell_type": "code",
   "execution_count": 29,
   "id": "1ede0695",
   "metadata": {},
   "outputs": [],
   "source": [
    "def autolabel(rects, labels=None, height_factor=1.01):\n",
    "    for i, rect in enumerate(rects):\n",
    "        height = rect.get_height()\n",
    "        if labels is not None:\n",
    "            try:\n",
    "                label = labels[i]\n",
    "            except (TypeError, KeyError):\n",
    "                label = ' '\n",
    "        else:\n",
    "            label = '%d' % int(height)\n",
    "        ax.text(rect.get_x() + rect.get_width()/2., height_factor*height,\n",
    "                '{}'.format(label),\n",
    "                ha='center', va='bottom')"
   ]
  },
  {
   "cell_type": "code",
   "execution_count": 38,
   "id": "23f1e46e",
   "metadata": {},
   "outputs": [
    {
     "data": {
      "image/png": "[encoded data removed]",
      "text/plain": [
       "<Figure size 432x288 with 1 Axes>"
      ]
     },
     "metadata": {},
     "output_type": "display_data"
    }
   ],
   "source": [
    "categories = ['news','business','health','entartainment', 'sport', 'politics']\n",
    "values = [1611,104,52,58,2176,75]\n",
    "\n",
    "bars = plt.bar(categories, values, color=['blue', 'orange','green','red','purple','brown'])\n",
    "ax = plt.gca()\n",
    "autolabel(ax.patches, height_factor=1)\n",
    "\n",
    "ax.set_xlabel(\"category\", fontsize=15, color='black')\n",
    "ax.set_ylabel(\"amount of articles\", fontsize=15, color='black')\n",
    "\n",
    "sb.set_style(\"darkgrid\")\n",
    "plt.savefig(\"countplot.png\", dpi = 1000)"
   ]
  },
  {
   "cell_type": "code",
   "execution_count": 39,
   "id": "3e285005",
   "metadata": {},
   "outputs": [
    {
     "data": {
      "image/png": "[encoded data removed]",
      "text/plain": [
       "<Figure size 360x360 with 1 Axes>"
      ]
     },
     "metadata": {},
     "output_type": "display_data"
    }
   ],
   "source": [
    "cnn_df['Section'].value_counts()[:10].plot(kind='pie',autopct='%.1f', figsize = (5, 5));\n",
    "plt.title(\"Section of content\")\n",
    "plt.savefig(\"piechart.png\", dpi = 1000)"
   ]
  },
  {
   "cell_type": "code",
   "execution_count": 40,
   "id": "25b01319",
   "metadata": {},
   "outputs": [
    {
     "data": {
      "image/png": "[encoded data removed]",
      "text/plain": [
       "<Figure size 504x504 with 1 Axes>"
      ]
     },
     "metadata": {},
     "output_type": "display_data"
    }
   ],
   "source": [
    "cnn_df[\"Section\"].value_counts().plot(kind = \"barh\", figsize = (7, 7))\n",
    "sb.set_style(\"darkgrid\")\n",
    "plt.savefig(\"chart.png\", dpi = 1000)"
   ]
  },
  {
   "cell_type": "code",
   "execution_count": 41,
   "id": "89851301",
   "metadata": {},
   "outputs": [
    {
     "data": {
      "text/plain": [
       "<StringArray>\n",
       "[                                                    'Jacopo Prisco, CNN',\n",
       "                                                  'Stephanie Bailey, CNN',\n",
       "                      'Words by Stephanie Bailey, video by Zahra Jamshed',\n",
       "                                        'Paul R. La Monica, CNN Business',\n",
       "                                                                'Reuters',\n",
       "                                                    'Paul P. Murphy, CNN',\n",
       "                                             'Oliver Darcy, CNN Business',\n",
       "                                            'Charles Riley, CNN Business',\n",
       "                                                'Matt Egan, CNN Business',\n",
       "                                          'Parija Kavilanz, CNN Business',\n",
       " ...\n",
       "                                     'Joseph Ataman and Dalal Mawad, CNN',\n",
       "                                                        'John Lynch, CNN',\n",
       "                                                        'Xiaofei Xu, CNN',\n",
       " 'Amy Woodyatt, Ben Morse, Nectar Gan, Emmet Lyons and Alicia Lloyd, CNN',\n",
       "                              'Sharon Braithwaite and Nina Avramova, CNN',\n",
       "                                       'Delia Gallagher, CNN and Reuters',\n",
       "                                          'Ben Morse and Nectar Gan, CNN',\n",
       "                                      'Xiaofei Xu and Anaëlle Jonah, CNN',\n",
       "                                  'Stephanie Halasz and Chris Stern, CNN',\n",
       "                                     'Analysis by Stephen Collinson, CNN']\n",
       "Length: 1531, dtype: string"
      ]
     },
     "execution_count": 41,
     "metadata": {},
     "output_type": "execute_result"
    }
   ],
   "source": [
    "cnn_df[\"Author\"].unique()"
   ]
  },
  {
   "cell_type": "code",
   "execution_count": 42,
   "id": "73ae08e5",
   "metadata": {},
   "outputs": [],
   "source": [
    "cnn_authors_df = pd.DataFrame({\"Author\": cnn_df[\"Author\"].unique(), \"Amount\": cnn_df[\"Author\"].value_counts()})"
   ]
  },
  {
   "cell_type": "code",
   "execution_count": 43,
   "id": "6945db53",
   "metadata": {},
   "outputs": [
    {
     "name": "stdout",
     "output_type": "stream",
     "text": [
      "<class 'pandas.core.frame.DataFrame'>\n",
      "Index: 1531 entries, Ben Morse, CNN to Analysis by Stephen Collinson, CNN\n",
      "Data columns (total 2 columns):\n",
      " #   Column  Non-Null Count  Dtype \n",
      "---  ------  --------------  ----- \n",
      " 0   Author  1531 non-null   string\n",
      " 1   Amount  1531 non-null   Int64 \n",
      "dtypes: Int64(1), string(1)\n",
      "memory usage: 37.4+ KB\n"
     ]
    }
   ],
   "source": [
    "cnn_authors_df.info()"
   ]
  },
  {
   "cell_type": "code",
   "execution_count": 44,
   "id": "3cec8c68",
   "metadata": {},
   "outputs": [
    {
     "data": {
      "text/html": [
       "<div>\n",
       "<style scoped>\n",
       "    .dataframe tbody tr th:only-of-type {\n",
       "        vertical-align: middle;\n",
       "    }\n",
       "\n",
       "    .dataframe tbody tr th {\n",
       "        vertical-align: top;\n",
       "    }\n",
       "\n",
       "    .dataframe thead th {\n",
       "        text-align: right;\n",
       "    }\n",
       "</style>\n",
       "<table border=\"1\" class=\"dataframe\">\n",
       "  <thead>\n",
       "    <tr style=\"text-align: right;\">\n",
       "      <th></th>\n",
       "      <th>Author</th>\n",
       "      <th>Amount</th>\n",
       "    </tr>\n",
       "  </thead>\n",
       "  <tbody>\n",
       "    <tr>\n",
       "      <th>Ben Morse, CNN</th>\n",
       "      <td>Jacopo Prisco, CNN</td>\n",
       "      <td>318</td>\n",
       "    </tr>\n",
       "    <tr>\n",
       "      <th>Story by Reuters</th>\n",
       "      <td>Stephanie Bailey, CNN</td>\n",
       "      <td>207</td>\n",
       "    </tr>\n",
       "    <tr>\n",
       "      <th>Ben Church, CNN</th>\n",
       "      <td>Words by Stephanie Bailey, video by Zahra Jamshed</td>\n",
       "      <td>192</td>\n",
       "    </tr>\n",
       "    <tr>\n",
       "      <th>George Ramsay, CNN</th>\n",
       "      <td>Paul R. La Monica, CNN Business</td>\n",
       "      <td>163</td>\n",
       "    </tr>\n",
       "    <tr>\n",
       "      <th>Matias Grez, CNN</th>\n",
       "      <td>Reuters</td>\n",
       "      <td>148</td>\n",
       "    </tr>\n",
       "    <tr>\n",
       "      <th>...</th>\n",
       "      <td>...</td>\n",
       "      <td>...</td>\n",
       "    </tr>\n",
       "    <tr>\n",
       "      <th>Becky Thompson, for CNN</th>\n",
       "      <td>Kevin Dotson, Homero De la Fuente, and Jacob L...</td>\n",
       "      <td>1</td>\n",
       "    </tr>\n",
       "    <tr>\n",
       "      <th>Antonia Mortensen, Schams Elwazer and Arnaud Siad, CNN</th>\n",
       "      <td>Lauren Said-Moorhouse, CNN</td>\n",
       "      <td>1</td>\n",
       "    </tr>\n",
       "    <tr>\n",
       "      <th>Dave Close and John Sinnott, CNN</th>\n",
       "      <td>Sarah Dean, Fred Pleitgen, Nadine Schmidt and ...</td>\n",
       "      <td>1</td>\n",
       "    </tr>\n",
       "    <tr>\n",
       "      <th>Ethan Cohen and Gregory Krieg, CNN</th>\n",
       "      <td>Hira Humayun, CNN</td>\n",
       "      <td>1</td>\n",
       "    </tr>\n",
       "    <tr>\n",
       "      <th>Analysis by Stephen Collinson, CNN</th>\n",
       "      <td>Analysis by Stephen Collinson, CNN</td>\n",
       "      <td>1</td>\n",
       "    </tr>\n",
       "  </tbody>\n",
       "</table>\n",
       "<p>1531 rows × 2 columns</p>\n",
       "</div>"
      ],
      "text/plain": [
       "                                                                                               Author  \\\n",
       "Ben Morse, CNN                                                                     Jacopo Prisco, CNN   \n",
       "Story by Reuters                                                                Stephanie Bailey, CNN   \n",
       "Ben Church, CNN                                     Words by Stephanie Bailey, video by Zahra Jamshed   \n",
       "George Ramsay, CNN                                                    Paul R. La Monica, CNN Business   \n",
       "Matias Grez, CNN                                                                              Reuters   \n",
       "...                                                                                               ...   \n",
       "Becky Thompson, for CNN                             Kevin Dotson, Homero De la Fuente, and Jacob L...   \n",
       "Antonia Mortensen, Schams Elwazer and Arnaud Si...                         Lauren Said-Moorhouse, CNN   \n",
       "Dave Close and John Sinnott, CNN                    Sarah Dean, Fred Pleitgen, Nadine Schmidt and ...   \n",
       "Ethan Cohen and Gregory Krieg, CNN                                                  Hira Humayun, CNN   \n",
       "Analysis by Stephen Collinson, CNN                                 Analysis by Stephen Collinson, CNN   \n",
       "\n",
       "                                                    Amount  \n",
       "Ben Morse, CNN                                         318  \n",
       "Story by Reuters                                       207  \n",
       "Ben Church, CNN                                        192  \n",
       "George Ramsay, CNN                                     163  \n",
       "Matias Grez, CNN                                       148  \n",
       "...                                                    ...  \n",
       "Becky Thompson, for CNN                                  1  \n",
       "Antonia Mortensen, Schams Elwazer and Arnaud Si...       1  \n",
       "Dave Close and John Sinnott, CNN                         1  \n",
       "Ethan Cohen and Gregory Krieg, CNN                       1  \n",
       "Analysis by Stephen Collinson, CNN                       1  \n",
       "\n",
       "[1531 rows x 2 columns]"
      ]
     },
     "execution_count": 44,
     "metadata": {},
     "output_type": "execute_result"
    }
   ],
   "source": [
    "cnn_authors_df.sort_values(by = \"Amount\", ascending = False)"
   ]
  },
  {
   "cell_type": "code",
   "execution_count": 45,
   "id": "aff7203c",
   "metadata": {},
   "outputs": [
    {
     "data": {
      "text/html": [
       "<div>\n",
       "<style scoped>\n",
       "    .dataframe tbody tr th:only-of-type {\n",
       "        vertical-align: middle;\n",
       "    }\n",
       "\n",
       "    .dataframe tbody tr th {\n",
       "        vertical-align: top;\n",
       "    }\n",
       "\n",
       "    .dataframe thead th {\n",
       "        text-align: right;\n",
       "    }\n",
       "</style>\n",
       "<table border=\"1\" class=\"dataframe\">\n",
       "  <thead>\n",
       "    <tr style=\"text-align: right;\">\n",
       "      <th></th>\n",
       "      <th>Author</th>\n",
       "      <th>Amount</th>\n",
       "    </tr>\n",
       "  </thead>\n",
       "  <tbody>\n",
       "    <tr>\n",
       "      <th>Ben Morse, CNN</th>\n",
       "      <td>Jacopo Prisco, CNN</td>\n",
       "      <td>318</td>\n",
       "    </tr>\n",
       "    <tr>\n",
       "      <th>Story by Reuters</th>\n",
       "      <td>Stephanie Bailey, CNN</td>\n",
       "      <td>207</td>\n",
       "    </tr>\n",
       "    <tr>\n",
       "      <th>Ben Church, CNN</th>\n",
       "      <td>Words by Stephanie Bailey, video by Zahra Jamshed</td>\n",
       "      <td>192</td>\n",
       "    </tr>\n",
       "    <tr>\n",
       "      <th>George Ramsay, CNN</th>\n",
       "      <td>Paul R. La Monica, CNN Business</td>\n",
       "      <td>163</td>\n",
       "    </tr>\n",
       "    <tr>\n",
       "      <th>Matias Grez, CNN</th>\n",
       "      <td>Reuters</td>\n",
       "      <td>148</td>\n",
       "    </tr>\n",
       "    <tr>\n",
       "      <th>Analysis by Luke McGee, CNN</th>\n",
       "      <td>Paul P. Murphy, CNN</td>\n",
       "      <td>55</td>\n",
       "    </tr>\n",
       "    <tr>\n",
       "      <th>Jack Bantock, CNN</th>\n",
       "      <td>Oliver Darcy, CNN Business</td>\n",
       "      <td>54</td>\n",
       "    </tr>\n",
       "    <tr>\n",
       "      <th>John Sinnott, CNN</th>\n",
       "      <td>Charles Riley, CNN Business</td>\n",
       "      <td>52</td>\n",
       "    </tr>\n",
       "    <tr>\n",
       "      <th>Reuters</th>\n",
       "      <td>Matt Egan, CNN Business</td>\n",
       "      <td>52</td>\n",
       "    </tr>\n",
       "    <tr>\n",
       "      <th>Amy Woodyatt, CNN</th>\n",
       "      <td>Parija Kavilanz, CNN Business</td>\n",
       "      <td>50</td>\n",
       "    </tr>\n",
       "  </tbody>\n",
       "</table>\n",
       "</div>"
      ],
      "text/plain": [
       "                                                                        Author  \\\n",
       "Ben Morse, CNN                                              Jacopo Prisco, CNN   \n",
       "Story by Reuters                                         Stephanie Bailey, CNN   \n",
       "Ben Church, CNN              Words by Stephanie Bailey, video by Zahra Jamshed   \n",
       "George Ramsay, CNN                             Paul R. La Monica, CNN Business   \n",
       "Matias Grez, CNN                                                       Reuters   \n",
       "Analysis by Luke McGee, CNN                                Paul P. Murphy, CNN   \n",
       "Jack Bantock, CNN                                   Oliver Darcy, CNN Business   \n",
       "John Sinnott, CNN                                  Charles Riley, CNN Business   \n",
       "Reuters                                                Matt Egan, CNN Business   \n",
       "Amy Woodyatt, CNN                                Parija Kavilanz, CNN Business   \n",
       "\n",
       "                             Amount  \n",
       "Ben Morse, CNN                  318  \n",
       "Story by Reuters                207  \n",
       "Ben Church, CNN                 192  \n",
       "George Ramsay, CNN              163  \n",
       "Matias Grez, CNN                148  \n",
       "Analysis by Luke McGee, CNN      55  \n",
       "Jack Bantock, CNN                54  \n",
       "John Sinnott, CNN                52  \n",
       "Reuters                          52  \n",
       "Amy Woodyatt, CNN                50  "
      ]
     },
     "execution_count": 45,
     "metadata": {},
     "output_type": "execute_result"
    }
   ],
   "source": [
    "cnn_authors_df.head(10)"
   ]
  },
  {
   "cell_type": "code",
   "execution_count": 49,
   "id": "322913c7",
   "metadata": {},
   "outputs": [
    {
     "data": {
      "image/png": "[encoded data removed]",
      "text/plain": [
       "<Figure size 432x288 with 1 Axes>"
      ]
     },
     "metadata": {},
     "output_type": "display_data"
    }
   ],
   "source": [
    "sb.barplot(data = cnn_authors_df[:5], x = \"Amount\", y = \"Author\")\n",
    "sb.set_style(\"darkgrid\")\n",
    "plt.title(\"Top 5 popular authors\")\n",
    "plt.savefig(\"authors_barchart.png\", dpi = 1000, bbox_inches = \"tight\")"
   ]
  },
  {
   "cell_type": "code",
   "execution_count": null,
   "id": "0ab81219",
   "metadata": {},
   "outputs": [],
   "source": []
  }
 ],
 "metadata": {
  "kernelspec": {
   "display_name": "Python 3 (ipykernel)",
   "language": "python",
   "name": "python3"
  },
  "language_info": {
   "codemirror_mode": {
    "name": "ipython",
    "version": 3
   },
   "file_extension": ".py",
   "mimetype": "text/x-python",
   "name": "python",
   "nbconvert_exporter": "python",
   "pygments_lexer": "ipython3",
   "version": "3.9.7"
  }
 },
 "nbformat": 4,
 "nbformat_minor": 5
}
